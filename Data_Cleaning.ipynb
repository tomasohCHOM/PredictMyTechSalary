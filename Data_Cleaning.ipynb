{
 "cells": [
  {
   "cell_type": "markdown",
   "id": "488805fb",
   "metadata": {},
   "source": [
    "# Data Cleaning\n",
    "\n"
   ]
  },
  {
   "cell_type": "code",
   "execution_count": 4,
   "id": "d77e869b",
   "metadata": {},
   "outputs": [],
   "source": [
    "import numpy as np\n",
    "import pandas as pd\n",
    "import matplotlib.pyplot as plt\n",
    "import seaborn as sns\n",
    "import pickle as pkl\n",
    "\n",
    "sns.set()\n",
    "\n",
    "from sklearn.model_selection import train_test_split, RandomizedSearchCV\n",
    "from sklearn.linear_model import LinearRegression, Ridge, Lasso, ElasticNet\n",
    "from sklearn.preprocessing import StandardScaler, PolynomialFeatures\n",
    "from sklearn.pipeline import make_pipeline\n",
    "from sklearn.model_selection import cross_val_score, train_test_split, KFold, GridSearchCV\n",
    "from sklearn.ensemble import RandomForestRegressor, ExtraTreesRegressor\n",
    "from sklearn import metrics\n",
    "from sklearn.metrics import r2_score, mean_squared_error, mean_absolute_error\n",
    "from sklearn.metrics import confusion_matrix, classification_report\n",
    "\n",
    "\n",
    "# upload data\n",
    "df = pd.read_csv('datacopy.csv')\n"
   ]
  },
  {
   "cell_type": "markdown",
   "id": "ab13c68f",
   "metadata": {},
   "source": [
    "### Let's drop colums that we won't use, duplicates and NaN rows"
   ]
  },
  {
   "cell_type": "code",
   "execution_count": 5,
   "id": "45b642b4",
   "metadata": {},
   "outputs": [],
   "source": [
    "# drop colums \"CodingActivities\", \"LearnCode\", \"LearnCodeOnline\", \"LearnCodeCoursesCert\", \"DevType\" <- (this one\n",
    "# will be too complicated to analise), \"PurchaseInfluence\", \"BuyNewTool\", \"LanguageWantToWorkWith\",\n",
    "# \"DatabaseHaveWorkedWith\", \"DatabaseWantToWorkWith\", \"PlatformHaveWorkedWith\", \"PlatformWantToWorkWith\", \n",
    "# \"WebframeHaveWorkedWith\", \"WebframeWantToWorkWith\", \"MiscTechHaveWorkedWith\", \"MiscTechWantToWorkWith\",\n",
    "# \"ToolsTechHaveWorkedWith\" <- (this one will be complicated to like split and analyse, but if we have \n",
    "# time, we can try), \"ToolsTechWantToWorkWith\", \"NEWCollabToolsHaveWorkedWith\", \"NEWCollabToolsWantToWorkWith\", \n",
    "# \"OpSysProfessional use\", \"OpSysPersonal use\", \"VersionControlSystem\", \"VCInteraction\", \"VCHostingPersonal use\",\n",
    "# \"VCHostingProfessional use\", \"OfficeStackAsyncHaveWorkedWith\", \"OfficeStackAsyncWantToWorkWith\", \n",
    "# \"OfficeStackSyncHaveWorkedWith\", \"OfficeStackSyncWantToWorkWith\", \"Blockchain\", \"NEWSOSites\", \"SOVisitFreq\", \n",
    "# \"SOAccount\", \"SOPartFreq\", \"SOComm\", \"TBranch\", \"ICorPM\", \"Knowledge_1\", \"Knowledge_2\", \"Knowledge_3\",\n",
    "# \"Knowledge_4\", \"Knowledge_5\", \"Knowledge_6\", \"Knowledge_7\", \"Frequency_1\", \"Frequency_2\", \"Frequency_3\", \n",
    "# \"TimeSearching\", \"TimeAnswering\", \"Onboarding\", \"ProfessionalTech\", \"TrueFalse_1\", TrueFalse_2\", TrueFalse_3\"\n",
    "# \"SurveyLength\", \"SurveyEase\", \"CompTotal\", \"CompFreq\", \"Currency\"\n",
    "\n",
    "df.drop(columns=[\"CodingActivities\", \"LearnCode\", \"LearnCodeOnline\", \"LearnCodeCoursesCert\", \"DevType\",\n",
    "                         \"PurchaseInfluence\", \"BuyNewTool\", \"LanguageWantToWorkWith\",\"DatabaseHaveWorkedWith\", \"DatabaseWantToWorkWith\", \"PlatformHaveWorkedWith\", \"PlatformWantToWorkWith\", \"WebframeHaveWorkedWith\", \"WebframeWantToWorkWith\", \"MiscTechHaveWorkedWith\", \"MiscTechWantToWorkWith\",\n",
    "                        \"ToolsTechHaveWorkedWith\",\"ToolsTechWantToWorkWith\", \"NEWCollabToolsHaveWorkedWith\",\n",
    "                        \"NEWCollabToolsWantToWorkWith\",\"OpSysProfessional use\", \"OpSysPersonal use\",\n",
    "                        \"VersionControlSystem\", \"VCInteraction\", \"VCHostingPersonal use\",\n",
    "                        \"VCHostingProfessional use\", \"OfficeStackAsyncHaveWorkedWith\", \"OfficeStackAsyncWantToWorkWith\",\n",
    "                        \"OfficeStackSyncHaveWorkedWith\", \"OfficeStackSyncWantToWorkWith\", \"Blockchain\", \"NEWSOSites\", \"SOVisitFreq\",\n",
    "                        \"SOAccount\", \"SOPartFreq\", \"SOComm\", \"TBranch\", \"ICorPM\", \"Knowledge_1\", \"Knowledge_2\", \"Knowledge_3\",\n",
    "                        \"Knowledge_4\", \"Knowledge_5\", \"Knowledge_6\", \"Knowledge_7\", \"Frequency_1\", \"Frequency_2\", \"Frequency_3\",\n",
    "                        \"TimeSearching\", \"TimeAnswering\", \"Onboarding\", \"ProfessionalTech\", \"TrueFalse_1\", \"TrueFalse_2\", \"TrueFalse_3\",\n",
    "                        \"SurveyLength\", \"SurveyEase\",\"CompTotal\", \"CompFreq\",\"Currency\"], inplace=True)\n",
    "\n"
   ]
  },
  {
   "cell_type": "code",
   "execution_count": 6,
   "id": "c5ecce77",
   "metadata": {},
   "outputs": [],
   "source": [
    "#remove duplicates if we have any(we don't)\n",
    "df = df.drop_duplicates()"
   ]
  },
  {
   "cell_type": "code",
   "execution_count": 7,
   "id": "fbc3eb9e",
   "metadata": {},
   "outputs": [],
   "source": [
    "# removing colums that contain at least one NaN value\n",
    "df = df.dropna()"
   ]
  },
  {
   "cell_type": "markdown",
   "id": "64ce888d",
   "metadata": {},
   "source": [
    "### Replacing string values in the columns with numericals ones + desplaying inital unique values\n"
   ]
  },
  {
   "cell_type": "code",
   "execution_count": 8,
   "id": "d989a6d9",
   "metadata": {},
   "outputs": [
    {
     "name": "stdout",
     "output_type": "stream",
     "text": [
      "MainBranch:  ['I am not primarily a developer, but I write code sometimes as part of my work'\n",
      " 'I am a developer by profession']\n"
     ]
    }
   ],
   "source": [
    "#let's display all unique values in MainBranch column\n",
    "print('MainBranch: ', df['MainBranch'].unique())"
   ]
  },
  {
   "cell_type": "code",
   "execution_count": 9,
   "id": "b5569882",
   "metadata": {},
   "outputs": [],
   "source": [
    "df.loc[:,'MainBranch'] = pd.factorize(df['MainBranch'])[0] + 1"
   ]
  },
  {
   "cell_type": "code",
   "execution_count": 10,
   "id": "2499b5b0",
   "metadata": {
    "scrolled": true
   },
   "outputs": [
    {
     "name": "stdout",
     "output_type": "stream",
     "text": [
      "MainBranch:  [1 2]\n"
     ]
    }
   ],
   "source": [
    "#let's display all unique values in MainBranch column\n",
    "print('MainBranch: ', df['MainBranch'].unique())"
   ]
  },
  {
   "cell_type": "code",
   "execution_count": 11,
   "id": "75642228",
   "metadata": {},
   "outputs": [
    {
     "name": "stdout",
     "output_type": "stream",
     "text": [
      "Employment:  ['Employed, full-time;Independent contractor, freelancer, or self-employed'\n",
      " 'Employed, full-time'\n",
      " 'Independent contractor, freelancer, or self-employed'\n",
      " 'Employed, part-time' 'Employed, full-time;Employed, part-time'\n",
      " 'Independent contractor, freelancer, or self-employed;Employed, part-time'\n",
      " 'Employed, full-time;Independent contractor, freelancer, or self-employed;Employed, part-time'\n",
      " 'Employed, part-time;Retired' 'Employed, full-time;Retired'\n",
      " 'Employed, full-time;Independent contractor, freelancer, or self-employed;Retired']\n"
     ]
    }
   ],
   "source": [
    "#let's display all unique values in MainBranch column\n",
    "print('Employment: ', df['Employment'].unique())"
   ]
  },
  {
   "cell_type": "code",
   "execution_count": 12,
   "id": "48d38996",
   "metadata": {},
   "outputs": [],
   "source": [
    "df.loc[:,'Employment'] = pd.factorize(df['Employment'])[0] + 1"
   ]
  },
  {
   "cell_type": "code",
   "execution_count": 13,
   "id": "fb3e9b5a",
   "metadata": {},
   "outputs": [
    {
     "name": "stdout",
     "output_type": "stream",
     "text": [
      "Employment:  [1 2 3 4 5 6 7 8 9 10]\n"
     ]
    }
   ],
   "source": [
    "#let's display all unique values in MainBranch column\n",
    "print('Employment: ', df['Employment'].unique())"
   ]
  },
  {
   "cell_type": "code",
   "execution_count": 14,
   "id": "7cce958b",
   "metadata": {},
   "outputs": [
    {
     "name": "stdout",
     "output_type": "stream",
     "text": [
      "RemoteWork:  ['Fully remote' 'Hybrid (some remote, some in-person)' 'Full in-person']\n"
     ]
    }
   ],
   "source": [
    "#let's display all unique values in 'RemoteWork' column\n",
    "print('RemoteWork: ', df['RemoteWork'].unique())"
   ]
  },
  {
   "cell_type": "code",
   "execution_count": 15,
   "id": "ed3e657d",
   "metadata": {
    "scrolled": true
   },
   "outputs": [],
   "source": [
    "df.loc[:,'RemoteWork'] = pd.factorize(df['RemoteWork'])[0] + 1"
   ]
  },
  {
   "cell_type": "code",
   "execution_count": 16,
   "id": "a7896b51",
   "metadata": {},
   "outputs": [
    {
     "name": "stdout",
     "output_type": "stream",
     "text": [
      "RemoteWork:  [1 2 3]\n"
     ]
    }
   ],
   "source": [
    "#let's display all unique values in 'RemoteWork' column\n",
    "print('RemoteWork: ', df['RemoteWork'].unique())"
   ]
  },
  {
   "cell_type": "code",
   "execution_count": 17,
   "id": "cb08287d",
   "metadata": {
    "scrolled": false
   },
   "outputs": [
    {
     "name": "stdout",
     "output_type": "stream",
     "text": [
      "EdLevel:  ['Bachelor’s degree (B.A., B.S., B.Eng., etc.)'\n",
      " 'Master’s degree (M.A., M.S., M.Eng., MBA, etc.)' 'Something else'\n",
      " 'Secondary school (e.g. American high school, German Realschule or Gymnasium, etc.)'\n",
      " 'Some college/university study without earning a degree'\n",
      " 'Other doctoral degree (Ph.D., Ed.D., etc.)'\n",
      " 'Associate degree (A.A., A.S., etc.)' 'Primary/elementary school'\n",
      " 'Professional degree (JD, MD, etc.)']\n"
     ]
    }
   ],
   "source": [
    "#let's display all unique values in 'EdLevel' column\n",
    "print('EdLevel: ', df['EdLevel'].unique())"
   ]
  },
  {
   "cell_type": "code",
   "execution_count": 18,
   "id": "6e96c917",
   "metadata": {
    "scrolled": true
   },
   "outputs": [],
   "source": [
    "df.loc[:,'EdLevel'] = pd.factorize(df['EdLevel'])[0] + 1"
   ]
  },
  {
   "cell_type": "code",
   "execution_count": 19,
   "id": "820ea252",
   "metadata": {},
   "outputs": [
    {
     "name": "stdout",
     "output_type": "stream",
     "text": [
      "EdLevel:  [1 2 3 4 5 6 7 8 9]\n"
     ]
    }
   ],
   "source": [
    "#let's display all unique values in 'EdLevel' column\n",
    "print('EdLevel: ', df['EdLevel'].unique())"
   ]
  },
  {
   "cell_type": "code",
   "execution_count": 20,
   "id": "a217db88",
   "metadata": {
    "scrolled": true
   },
   "outputs": [
    {
     "name": "stdout",
     "output_type": "stream",
     "text": [
      "YearsCode:  ['12' '11' '5' '25' '16' '20' '27' '24' '6' '3' '4' '40' '7' '9' '17' '10'\n",
      " '29' '13' '30' '26' '32' '14' '15' '8' '28' '19' '23' '48' '38' '21' '18'\n",
      " '22' '43' '31' '35' '39' '2' '42' '1' '45' '33' 'Less than 1 year' '34'\n",
      " '36' '37' '41' '44' 'More than 50 years' '46' '47' '50' '49']\n"
     ]
    }
   ],
   "source": [
    "#let's display all unique values in 'YearsCode' column\n",
    "print('YearsCode: ', df['YearsCode'].unique())"
   ]
  },
  {
   "cell_type": "code",
   "execution_count": 21,
   "id": "caca9f11",
   "metadata": {},
   "outputs": [],
   "source": [
    "# let's group all year of code into 5 groups: less than 5 year, from 5 to 10, from 11 to 20, from 21 to 40 \n",
    "# and more than 40\n",
    "\n",
    "def process_age(age):\n",
    "    if age == 'Less than 1 year':\n",
    "        return 1\n",
    "    elif age == 'More than 50 years':\n",
    "        return (5)\n",
    "    age = int(age)\n",
    "    if age <5:\n",
    "        return(1)\n",
    "    elif (age >= 5 and age <=10):\n",
    "        return(2)\n",
    "    elif (age>10 and age <=20):\n",
    "        return (3)\n",
    "    elif (age>20 and age <=40):\n",
    "        return (4)\n",
    "    else:\n",
    "        return(5)\n",
    "\n",
    "# Apply the function to the column and create a new column\n",
    "df.loc[:,'YearsCode'] = df['YearsCode'].apply(process_age)"
   ]
  },
  {
   "cell_type": "code",
   "execution_count": 22,
   "id": "afba972b",
   "metadata": {},
   "outputs": [
    {
     "name": "stdout",
     "output_type": "stream",
     "text": [
      "YearsCode:  [3 2 4 1 5]\n"
     ]
    }
   ],
   "source": [
    "print('YearsCode: ', df['YearsCode'].unique())"
   ]
  },
  {
   "cell_type": "code",
   "execution_count": 23,
   "id": "69534dbc",
   "metadata": {
    "scrolled": true
   },
   "outputs": [
    {
     "name": "stdout",
     "output_type": "stream",
     "text": [
      "Country:  ['United States of America' 'Italy' 'Canada' 'Germany' 'Ireland' 'Poland'\n",
      " 'Israel' 'Madagascar' 'Norway' 'Netherlands' 'Brazil' 'France' 'Uruguay'\n",
      " 'United Kingdom of Great Britain and Northern Ireland' 'Spain' 'Sweden'\n",
      " 'Romania' 'India' 'Greece' 'Portugal' 'Czech Republic' 'Kenya' 'Latvia'\n",
      " 'Austria' 'South Africa' 'China' 'Slovakia' 'Denmark' 'Australia'\n",
      " 'Viet Nam' 'Finland' 'Argentina' 'Hungary' 'Tunisia' 'Switzerland'\n",
      " 'Bangladesh' 'Ukraine' 'Maldives' 'Thailand' 'Hong Kong (S.A.R.)'\n",
      " 'Mexico' 'Serbia' 'Belgium' 'Egypt' 'Croatia' 'Russian Federation'\n",
      " 'Bosnia and Herzegovina' 'Armenia' 'Iran, Islamic Republic of...'\n",
      " 'Turkey' 'Belarus' 'Costa Rica' 'Estonia' 'Kazakhstan' 'Morocco'\n",
      " 'New Zealand' 'Ecuador' 'Bulgaria' 'Japan' 'Peru' 'Philippines'\n",
      " 'Indonesia' 'Republic of Korea' 'Colombia' 'Lebanon' 'Pakistan'\n",
      " 'Guatemala' 'Chile' 'Nepal' 'Jordan' 'Azerbaijan' 'Sri Lanka'\n",
      " 'United Arab Emirates' 'Singapore' 'South Korea' 'Lithuania' 'Taiwan'\n",
      " 'Saudi Arabia' 'Slovenia' 'Nigeria' 'Malaysia' 'Ethiopia' 'Cyprus'\n",
      " 'Andorra' 'Luxembourg' 'The former Yugoslav Republic of Macedonia'\n",
      " 'Syrian Arab Republic' 'Montenegro' 'Cambodia' 'Fiji' 'Mongolia'\n",
      " 'Tajikistan' 'Timor-Leste' 'Afghanistan' 'United Republic of Tanzania'\n",
      " 'Ghana' 'Cameroon' 'Kosovo' 'Turkmenistan' 'Republic of Moldova'\n",
      " 'Botswana' 'Albania' 'Myanmar' 'Georgia' 'Dominican Republic' 'Rwanda'\n",
      " 'Malta' 'Venezuela, Bolivarian Republic of...' 'El Salvador' 'Bolivia'\n",
      " 'Isle of Man' 'Algeria' 'Mali' 'Panama'\n",
      " \"Lao People's Democratic Republic\" 'Iceland' 'Honduras' 'Bahrain'\n",
      " 'Paraguay' 'Cuba' 'Democratic Republic of the Congo' \"Côte d'Ivoire\"\n",
      " 'Uganda' 'Mauritius' 'Nicaragua' 'Uzbekistan' 'Iraq' 'Kyrgyzstan'\n",
      " 'Mozambique' 'Kuwait' 'Libyan Arab Jamahiriya' 'Angola' 'Nomadic' 'Oman'\n",
      " 'Sudan' 'Palestine' 'Zambia' 'Somalia' 'Guinea' 'Zimbabwe' 'Cape Verde'\n",
      " 'Senegal' 'Trinidad and Tobago' 'Benin' 'Bhutan' 'Togo' 'Suriname'\n",
      " 'Jamaica' 'Yemen' 'Malawi' 'Qatar' 'Guyana' 'Congo, Republic of the...'\n",
      " 'Saint Lucia' 'Seychelles']\n"
     ]
    }
   ],
   "source": [
    "#let's display all unique values in 'Country' column\n",
    "print('Country: ', df['Country'].unique())"
   ]
  },
  {
   "cell_type": "code",
   "execution_count": 24,
   "id": "6e4310fc",
   "metadata": {
    "scrolled": true
   },
   "outputs": [],
   "source": [
    "df.loc[:,'Country'] = pd.factorize(df['Country'])[0] + 1"
   ]
  },
  {
   "cell_type": "code",
   "execution_count": 25,
   "id": "a26f59aa",
   "metadata": {
    "scrolled": true
   },
   "outputs": [
    {
     "name": "stdout",
     "output_type": "stream",
     "text": [
      "Country:  [1 2 3 4 5 6 7 8 9 10 11 12 13 14 15 16 17 18 19 20 21 22 23 24 25 26 27\n",
      " 28 29 30 31 32 33 34 35 36 37 38 39 40 41 42 43 44 45 46 47 48 49 50 51\n",
      " 52 53 54 55 56 57 58 59 60 61 62 63 64 65 66 67 68 69 70 71 72 73 74 75\n",
      " 76 77 78 79 80 81 82 83 84 85 86 87 88 89 90 91 92 93 94 95 96 97 98 99\n",
      " 100 101 102 103 104 105 106 107 108 109 110 111 112 113 114 115 116 117\n",
      " 118 119 120 121 122 123 124 125 126 127 128 129 130 131 132 133 134 135\n",
      " 136 137 138 139 140 141 142 143 144 145 146 147 148 149 150 151 152 153\n",
      " 154 155]\n"
     ]
    }
   ],
   "source": [
    "#let's display all unique values in 'Country' column\n",
    "print('Country: ', df['Country'].unique())"
   ]
  },
  {
   "cell_type": "code",
   "execution_count": 26,
   "id": "d6da8418",
   "metadata": {
    "scrolled": true
   },
   "outputs": [
    {
     "name": "stdout",
     "output_type": "stream",
     "text": [
      "OrgSize:  ['20 to 99 employees' '2 to 9 employees' '5,000 to 9,999 employees'\n",
      " '100 to 499 employees' '10,000 or more employees'\n",
      " 'Just me - I am a freelancer, sole proprietor, etc.'\n",
      " '500 to 999 employees' '1,000 to 4,999 employees' '10 to 19 employees'\n",
      " 'I don’t know']\n"
     ]
    }
   ],
   "source": [
    "#let's display all unique values in 'OrgSize' column\n",
    "print('OrgSize: ', df['OrgSize'].unique())"
   ]
  },
  {
   "cell_type": "code",
   "execution_count": 27,
   "id": "00514102",
   "metadata": {
    "scrolled": true
   },
   "outputs": [],
   "source": [
    "df.loc[:,'OrgSize'] = pd.factorize(df['OrgSize'])[0] + 1"
   ]
  },
  {
   "cell_type": "code",
   "execution_count": 28,
   "id": "d587d8b9",
   "metadata": {},
   "outputs": [
    {
     "name": "stdout",
     "output_type": "stream",
     "text": [
      "OrgSize:  [1 2 3 4 5 6 7 8 9 10]\n"
     ]
    }
   ],
   "source": [
    "#let's display all unique values in 'OrgSize' column\n",
    "print('OrgSize: ', df['OrgSize'].unique())"
   ]
  },
  {
   "cell_type": "code",
   "execution_count": 29,
   "id": "37fe469e",
   "metadata": {
    "scrolled": true
   },
   "outputs": [
    {
     "name": "stdout",
     "output_type": "stream",
     "text": [
      "Age:  ['35-44 years old' '25-34 years old' '45-54 years old' '55-64 years old'\n",
      " '18-24 years old' '65 years or older' 'Prefer not to say'\n",
      " 'Under 18 years old']\n"
     ]
    }
   ],
   "source": [
    "#let's display all unique values in 'Age' column\n",
    "print('Age: ', df['Age'].unique())"
   ]
  },
  {
   "cell_type": "code",
   "execution_count": 30,
   "id": "cf2d67df",
   "metadata": {
    "scrolled": true
   },
   "outputs": [],
   "source": [
    "df.loc[:,'Age'] = pd.factorize(df['Age'])[0] + 1"
   ]
  },
  {
   "cell_type": "code",
   "execution_count": 31,
   "id": "737be050",
   "metadata": {
    "scrolled": true
   },
   "outputs": [
    {
     "name": "stdout",
     "output_type": "stream",
     "text": [
      "Age:  [1 2 3 4 5 6 7 8]\n"
     ]
    }
   ],
   "source": [
    "#let's display all unique values in 'Age' column\n",
    "print('Age: ', df['Age'].unique())"
   ]
  },
  {
   "cell_type": "code",
   "execution_count": 32,
   "id": "5686e6b3",
   "metadata": {},
   "outputs": [
    {
     "name": "stdout",
     "output_type": "stream",
     "text": [
      "Gender:  ['Man' 'Woman' 'Prefer not to say'\n",
      " 'Non-binary, genderqueer, or gender non-conforming'\n",
      " 'Or, in your own words:'\n",
      " 'Or, in your own words:;Non-binary, genderqueer, or gender non-conforming'\n",
      " 'Woman;Non-binary, genderqueer, or gender non-conforming'\n",
      " 'Man;Non-binary, genderqueer, or gender non-conforming'\n",
      " 'Man;Or, in your own words:'\n",
      " 'Or, in your own words:;Woman;Non-binary, genderqueer, or gender non-conforming'\n",
      " 'Man;Woman;Non-binary, genderqueer, or gender non-conforming'\n",
      " 'Man;Or, in your own words:;Woman;Non-binary, genderqueer, or gender non-conforming'\n",
      " 'Man;Or, in your own words:;Non-binary, genderqueer, or gender non-conforming'\n",
      " 'Man;Woman']\n"
     ]
    }
   ],
   "source": [
    "#let's display all unique values in 'Gender' column\n",
    "print('Gender: ', df['Gender'].unique())"
   ]
  },
  {
   "cell_type": "code",
   "execution_count": 33,
   "id": "a4b777de",
   "metadata": {},
   "outputs": [],
   "source": [
    "df.loc[:,'Gender'] = pd.factorize(df['Gender'])[0] + 1"
   ]
  },
  {
   "cell_type": "code",
   "execution_count": 34,
   "id": "a9a81eb7",
   "metadata": {},
   "outputs": [
    {
     "name": "stdout",
     "output_type": "stream",
     "text": [
      "Gender:  [1 2 3 4 5 6 7 8 9 10 11 12 13 14]\n"
     ]
    }
   ],
   "source": [
    "#let's display all unique values in 'Gender' column\n",
    "print('Gender: ', df['Gender'].unique())"
   ]
  },
  {
   "cell_type": "code",
   "execution_count": 35,
   "id": "6a52525f",
   "metadata": {},
   "outputs": [
    {
     "name": "stdout",
     "output_type": "stream",
     "text": [
      "Trans:  ['No' 'Prefer not to say' 'Yes' 'Or, in your own words:']\n"
     ]
    }
   ],
   "source": [
    "#let's display all unique values in 'Trans' column\n",
    "print('Trans: ', df['Trans'].unique())"
   ]
  },
  {
   "cell_type": "code",
   "execution_count": 36,
   "id": "5ed7c9a5",
   "metadata": {},
   "outputs": [],
   "source": [
    "df.loc[:,'Trans'] = pd.factorize(df['Trans'])[0] + 1"
   ]
  },
  {
   "cell_type": "code",
   "execution_count": 37,
   "id": "463edeec",
   "metadata": {},
   "outputs": [
    {
     "name": "stdout",
     "output_type": "stream",
     "text": [
      "Trans:  [1 2 3 4]\n"
     ]
    }
   ],
   "source": [
    "#let's display all unique values in 'Trans' column\n",
    "print('Trans: ', df['Trans'].unique())"
   ]
  },
  {
   "cell_type": "code",
   "execution_count": 38,
   "id": "b72e633e",
   "metadata": {},
   "outputs": [
    {
     "name": "stdout",
     "output_type": "stream",
     "text": [
      "Sexuality:  ['Straight / Heterosexual' 'Prefer not to say' 'Gay or Lesbian' 'Bisexual'\n",
      " 'Bisexual;Straight / Heterosexual' 'Queer' 'Prefer to self-describe:'\n",
      " 'Bisexual;Queer' 'Gay or Lesbian;Queer'\n",
      " 'Bisexual;Prefer to self-describe:'\n",
      " 'Straight / Heterosexual;Prefer to self-describe:'\n",
      " 'Bisexual;Gay or Lesbian;Queer' 'Bisexual;Prefer to self-describe:;Queer'\n",
      " 'Straight / Heterosexual;Queer'\n",
      " 'Bisexual;Prefer to self-describe:;Gay or Lesbian'\n",
      " 'Bisexual;Straight / Heterosexual;Prefer to self-describe:'\n",
      " 'Bisexual;Gay or Lesbian' 'Prefer to self-describe:;Queer'\n",
      " 'Bisexual;Straight / Heterosexual;Gay or Lesbian'\n",
      " 'Prefer to self-describe:;Gay or Lesbian'\n",
      " 'Bisexual;Straight / Heterosexual;Queer'\n",
      " 'Bisexual;Straight / Heterosexual;Gay or Lesbian;Queer'\n",
      " 'Straight / Heterosexual;Gay or Lesbian'\n",
      " 'Prefer to self-describe:;Gay or Lesbian;Queer'\n",
      " 'Straight / Heterosexual;Prefer to self-describe:;Queer'\n",
      " 'Bisexual;Straight / Heterosexual;Prefer to self-describe:;Gay or Lesbian;Queer']\n"
     ]
    }
   ],
   "source": [
    "#let's display all unique values in 'Sexuality' column\n",
    "print('Sexuality: ', df['Sexuality'].unique())"
   ]
  },
  {
   "cell_type": "code",
   "execution_count": 39,
   "id": "57190873",
   "metadata": {},
   "outputs": [],
   "source": [
    "df.loc[:,'Sexuality'] = pd.factorize(df['Sexuality'])[0] + 1"
   ]
  },
  {
   "cell_type": "code",
   "execution_count": 40,
   "id": "127e4cfd",
   "metadata": {},
   "outputs": [
    {
     "name": "stdout",
     "output_type": "stream",
     "text": [
      "['White', 'European', 'White;European', 'Indian', 'Asian', 'Hispanic or Latino/a', 'South American', 'Middle Eastern', 'White;North American', 'Prefer not to say', 'African', 'South Asian', 'Southeast Asian', 'Or, in your own words:', 'White;South American', 'Indian;Asian', 'White;Hispanic or Latino/a', \"I don't know\", 'East Asian', 'Hispanic or Latino/a;South American']\n"
     ]
    }
   ],
   "source": [
    "filtered_ethnicities = df['Ethnicity'].value_counts()[:20].index.tolist()\n",
    "print(filtered_ethnicities)\n",
    "\n",
    "df = df[df['Ethnicity'].isin(filtered_ethnicities)]\n",
    "df.loc[:,'Ethnicity'] = pd.factorize(df['Ethnicity'])[0] + 1"
   ]
  },
  {
   "cell_type": "code",
   "execution_count": 41,
   "id": "4ddbc3ee",
   "metadata": {},
   "outputs": [
    {
     "name": "stdout",
     "output_type": "stream",
     "text": [
      "Ethnicity:  [1 2 3 4 5 6 7 8 9 10 11 12 13 14 15 16 17 18 19 20]\n"
     ]
    }
   ],
   "source": [
    "#let's display all unique values in 'Ethnicity' column\n",
    "print('Ethnicity: ', df['Ethnicity'].unique())"
   ]
  },
  {
   "cell_type": "code",
   "execution_count": 42,
   "id": "c4f37161",
   "metadata": {},
   "outputs": [],
   "source": [
    "#df.loc[:,'Ethnicity'] = pd.factorize(df['Ethnicity'])[0] + 1"
   ]
  },
  {
   "cell_type": "code",
   "execution_count": 43,
   "id": "e8c8e511",
   "metadata": {},
   "outputs": [
    {
     "name": "stdout",
     "output_type": "stream",
     "text": [
      "Accessibility:  ['None of the above' 'I am deaf / hard of hearing' 'Prefer not to say'\n",
      " 'Or, in your own words:' 'I am blind / have difficulty seeing'\n",
      " 'I am deaf / hard of hearing;I am unable to / find it difficult to walk or stand without assistance'\n",
      " 'I am unable to / find it difficult to type'\n",
      " 'I am unable to / find it difficult to walk or stand without assistance'\n",
      " 'I am deaf / hard of hearing;I am blind / have difficulty seeing'\n",
      " 'Or, in your own words:;I am unable to / find it difficult to walk or stand without assistance'\n",
      " 'I am blind / have difficulty seeing;I am unable to / find it difficult to walk or stand without assistance'\n",
      " 'I am blind / have difficulty seeing;I am unable to / find it difficult to type'\n",
      " 'I am unable to / find it difficult to type;I am unable to / find it difficult to walk or stand without assistance'\n",
      " 'Or, in your own words:;I am blind / have difficulty seeing'\n",
      " 'I am deaf / hard of hearing;I am unable to / find it difficult to type'\n",
      " 'I am deaf / hard of hearing;I am blind / have difficulty seeing;I am unable to / find it difficult to type'\n",
      " 'Or, in your own words:;I am unable to / find it difficult to type'\n",
      " 'Or, in your own words:;I am blind / have difficulty seeing;I am unable to / find it difficult to type'\n",
      " 'Or, in your own words:;I am deaf / hard of hearing']\n"
     ]
    }
   ],
   "source": [
    "#let's display all unique values in 'Accessibility' column\n",
    "print('Accessibility: ', df['Accessibility'].unique())"
   ]
  },
  {
   "cell_type": "code",
   "execution_count": 44,
   "id": "a5b60e6e",
   "metadata": {},
   "outputs": [],
   "source": [
    "df.loc[:,'Accessibility'] = pd.factorize(df['Accessibility'])[0] + 1"
   ]
  },
  {
   "cell_type": "code",
   "execution_count": 45,
   "id": "3c98ff50",
   "metadata": {},
   "outputs": [
    {
     "name": "stdout",
     "output_type": "stream",
     "text": [
      "MentalHealth:  ['I have a mood or emotional disorder (e.g., depression, bipolar disorder, etc.)'\n",
      " 'None of the above'\n",
      " 'I have a mood or emotional disorder (e.g., depression, bipolar disorder, etc.);I have an anxiety disorder'\n",
      " 'I have an anxiety disorder'\n",
      " 'I have learning differences (e.g., Dyslexic, Dyslexia, etc.)'\n",
      " 'Prefer not to say'\n",
      " \"I have a concentration and/or memory disorder (e.g., ADHD, etc.);I have learning differences (e.g., Dyslexic, Dyslexia, etc.);I have autism / an autism spectrum disorder (e.g. Asperger's, etc.)\"\n",
      " 'I have an anxiety disorder;I have a concentration and/or memory disorder (e.g., ADHD, etc.)'\n",
      " 'I have a concentration and/or memory disorder (e.g., ADHD, etc.)'\n",
      " \"I have a concentration and/or memory disorder (e.g., ADHD, etc.);I have autism / an autism spectrum disorder (e.g. Asperger's, etc.)\"\n",
      " 'Or, in your own words:;I have a concentration and/or memory disorder (e.g., ADHD, etc.)'\n",
      " 'I have a mood or emotional disorder (e.g., depression, bipolar disorder, etc.);I have an anxiety disorder;I have a concentration and/or memory disorder (e.g., ADHD, etc.)'\n",
      " \"I have autism / an autism spectrum disorder (e.g. Asperger's, etc.)\"\n",
      " \"I have a mood or emotional disorder (e.g., depression, bipolar disorder, etc.);I have an anxiety disorder;I have a concentration and/or memory disorder (e.g., ADHD, etc.);I have autism / an autism spectrum disorder (e.g. Asperger's, etc.)\"\n",
      " 'I have a mood or emotional disorder (e.g., depression, bipolar disorder, etc.);I have a concentration and/or memory disorder (e.g., ADHD, etc.)'\n",
      " \"I have an anxiety disorder;I have a concentration and/or memory disorder (e.g., ADHD, etc.);I have autism / an autism spectrum disorder (e.g. Asperger's, etc.)\"\n",
      " \"I have a mood or emotional disorder (e.g., depression, bipolar disorder, etc.);I have an anxiety disorder;I have autism / an autism spectrum disorder (e.g. Asperger's, etc.)\"\n",
      " \"I have a mood or emotional disorder (e.g., depression, bipolar disorder, etc.);I have a concentration and/or memory disorder (e.g., ADHD, etc.);I have autism / an autism spectrum disorder (e.g. Asperger's, etc.)\"\n",
      " \"I have a mood or emotional disorder (e.g., depression, bipolar disorder, etc.);I have autism / an autism spectrum disorder (e.g. Asperger's, etc.)\"\n",
      " 'Or, in your own words:'\n",
      " 'I have a concentration and/or memory disorder (e.g., ADHD, etc.);I have learning differences (e.g., Dyslexic, Dyslexia, etc.)'\n",
      " 'I have a mood or emotional disorder (e.g., depression, bipolar disorder, etc.);I have learning differences (e.g., Dyslexic, Dyslexia, etc.)'\n",
      " \"Or, in your own words:;I have autism / an autism spectrum disorder (e.g. Asperger's, etc.)\"\n",
      " \"I have an anxiety disorder;I have autism / an autism spectrum disorder (e.g. Asperger's, etc.)\"\n",
      " \"I have learning differences (e.g., Dyslexic, Dyslexia, etc.);I have autism / an autism spectrum disorder (e.g. Asperger's, etc.)\"\n",
      " \"I have a mood or emotional disorder (e.g., depression, bipolar disorder, etc.);I have an anxiety disorder;I have a concentration and/or memory disorder (e.g., ADHD, etc.);I have learning differences (e.g., Dyslexic, Dyslexia, etc.);I have autism / an autism spectrum disorder (e.g. Asperger's, etc.)\"\n",
      " 'I have a mood or emotional disorder (e.g., depression, bipolar disorder, etc.);I have an anxiety disorder;I have learning differences (e.g., Dyslexic, Dyslexia, etc.)'\n",
      " 'I have a mood or emotional disorder (e.g., depression, bipolar disorder, etc.);I have a concentration and/or memory disorder (e.g., ADHD, etc.);I have learning differences (e.g., Dyslexic, Dyslexia, etc.)'\n",
      " 'I have a mood or emotional disorder (e.g., depression, bipolar disorder, etc.);I have an anxiety disorder;I have a concentration and/or memory disorder (e.g., ADHD, etc.);I have learning differences (e.g., Dyslexic, Dyslexia, etc.)'\n",
      " 'I have an anxiety disorder;Or, in your own words:'\n",
      " 'I have an anxiety disorder;I have a concentration and/or memory disorder (e.g., ADHD, etc.);I have learning differences (e.g., Dyslexic, Dyslexia, etc.)'\n",
      " 'I have an anxiety disorder;I have learning differences (e.g., Dyslexic, Dyslexia, etc.)'\n",
      " 'I have a mood or emotional disorder (e.g., depression, bipolar disorder, etc.);Or, in your own words:'\n",
      " 'I have a mood or emotional disorder (e.g., depression, bipolar disorder, etc.);Or, in your own words:;I have learning differences (e.g., Dyslexic, Dyslexia, etc.)'\n",
      " \"I have an anxiety disorder;I have learning differences (e.g., Dyslexic, Dyslexia, etc.);I have autism / an autism spectrum disorder (e.g. Asperger's, etc.)\"\n",
      " \"I have a mood or emotional disorder (e.g., depression, bipolar disorder, etc.);I have learning differences (e.g., Dyslexic, Dyslexia, etc.);I have autism / an autism spectrum disorder (e.g. Asperger's, etc.)\"\n",
      " \"I have a mood or emotional disorder (e.g., depression, bipolar disorder, etc.);Or, in your own words:;I have a concentration and/or memory disorder (e.g., ADHD, etc.);I have autism / an autism spectrum disorder (e.g. Asperger's, etc.)\"\n",
      " 'I have a mood or emotional disorder (e.g., depression, bipolar disorder, etc.);I have an anxiety disorder;Or, in your own words:'\n",
      " \"I have a mood or emotional disorder (e.g., depression, bipolar disorder, etc.);Or, in your own words:;I have autism / an autism spectrum disorder (e.g. Asperger's, etc.)\"\n",
      " 'I have a mood or emotional disorder (e.g., depression, bipolar disorder, etc.);I have an anxiety disorder;Or, in your own words:;I have a concentration and/or memory disorder (e.g., ADHD, etc.)'\n",
      " \"I have a mood or emotional disorder (e.g., depression, bipolar disorder, etc.);I have a concentration and/or memory disorder (e.g., ADHD, etc.);I have learning differences (e.g., Dyslexic, Dyslexia, etc.);I have autism / an autism spectrum disorder (e.g. Asperger's, etc.)\"\n",
      " 'I have a mood or emotional disorder (e.g., depression, bipolar disorder, etc.);Or, in your own words:;I have a concentration and/or memory disorder (e.g., ADHD, etc.)'\n",
      " 'Or, in your own words:;I have learning differences (e.g., Dyslexic, Dyslexia, etc.)'\n",
      " \"I have a mood or emotional disorder (e.g., depression, bipolar disorder, etc.);I have an anxiety disorder;Or, in your own words:;I have autism / an autism spectrum disorder (e.g. Asperger's, etc.)\"\n",
      " \"Or, in your own words:;I have learning differences (e.g., Dyslexic, Dyslexia, etc.);I have autism / an autism spectrum disorder (e.g. Asperger's, etc.)\"\n",
      " \"Or, in your own words:;I have a concentration and/or memory disorder (e.g., ADHD, etc.);I have learning differences (e.g., Dyslexic, Dyslexia, etc.);I have autism / an autism spectrum disorder (e.g. Asperger's, etc.)\"\n",
      " \"I have a mood or emotional disorder (e.g., depression, bipolar disorder, etc.);I have an anxiety disorder;I have learning differences (e.g., Dyslexic, Dyslexia, etc.);I have autism / an autism spectrum disorder (e.g. Asperger's, etc.)\"\n",
      " \"Or, in your own words:;I have a concentration and/or memory disorder (e.g., ADHD, etc.);I have autism / an autism spectrum disorder (e.g. Asperger's, etc.)\"\n",
      " \"I have an anxiety disorder;I have a concentration and/or memory disorder (e.g., ADHD, etc.);I have learning differences (e.g., Dyslexic, Dyslexia, etc.);I have autism / an autism spectrum disorder (e.g. Asperger's, etc.)\"\n",
      " 'I have a mood or emotional disorder (e.g., depression, bipolar disorder, etc.);I have an anxiety disorder;Or, in your own words:;I have a concentration and/or memory disorder (e.g., ADHD, etc.);I have learning differences (e.g., Dyslexic, Dyslexia, etc.)'\n",
      " \"I have a mood or emotional disorder (e.g., depression, bipolar disorder, etc.);I have an anxiety disorder;Or, in your own words:;I have a concentration and/or memory disorder (e.g., ADHD, etc.);I have autism / an autism spectrum disorder (e.g. Asperger's, etc.)\"]\n"
     ]
    }
   ],
   "source": [
    "#let's display all unique values in 'MentalHealth' column\n",
    "print('MentalHealth: ', df['MentalHealth'].unique())"
   ]
  },
  {
   "cell_type": "code",
   "execution_count": 46,
   "id": "538645d8",
   "metadata": {},
   "outputs": [],
   "source": [
    "df.loc[:,'MentalHealth'] = pd.factorize(df['MentalHealth'])[0] + 1"
   ]
  },
  {
   "cell_type": "code",
   "execution_count": 47,
   "id": "5e2afc7a",
   "metadata": {},
   "outputs": [
    {
     "name": "stdout",
     "output_type": "stream",
     "text": [
      "WorkExp:  [14.  5.  4. 23.  9. 22. 21.  6.  3. 28.  7.  8.  2. 20. 27. 19.  1. 10.\n",
      " 13. 30. 12. 15. 11. 17. 25. 18. 24. 31.  0. 40. 16. 35. 32. 36. 42. 38.\n",
      " 29. 33. 26. 37. 34. 41. 44. 50. 46. 45. 39. 43. 47. 48. 49.]\n"
     ]
    }
   ],
   "source": [
    "#let's display all unique values in 'WorkExp' column\n",
    "print('WorkExp: ', df['WorkExp'].unique())"
   ]
  },
  {
   "cell_type": "code",
   "execution_count": 48,
   "id": "ce796ed3",
   "metadata": {},
   "outputs": [],
   "source": [
    "# let's group all year of work experiece into 5 groups: less than 5 year, from 5 to 10, from 11 to 20, from 21 to 40 \n",
    "# and more than 40\n",
    "\n",
    "def process_age(age):\n",
    "    age = int(age)\n",
    "    age = int(age)\n",
    "    if age <5:\n",
    "        return(0)\n",
    "    elif (age >= 5 and age <=10):\n",
    "        return(1)\n",
    "    elif (age>10 and age <=20):\n",
    "        return (2)\n",
    "    elif (age>20 and age <=40):\n",
    "        return (3)\n",
    "    else:\n",
    "        return(4)\n",
    "\n",
    "# Apply the function to the column and create a new column\n",
    "df.loc[:,'WorkExp'] = df['WorkExp'].apply(process_age)"
   ]
  },
  {
   "cell_type": "code",
   "execution_count": 49,
   "id": "a6df0bd0",
   "metadata": {},
   "outputs": [
    {
     "data": {
      "text/html": [
       "<div>\n",
       "<style scoped>\n",
       "    .dataframe tbody tr th:only-of-type {\n",
       "        vertical-align: middle;\n",
       "    }\n",
       "\n",
       "    .dataframe tbody tr th {\n",
       "        vertical-align: top;\n",
       "    }\n",
       "\n",
       "    .dataframe thead th {\n",
       "        text-align: right;\n",
       "    }\n",
       "</style>\n",
       "<table border=\"1\" class=\"dataframe\">\n",
       "  <thead>\n",
       "    <tr style=\"text-align: right;\">\n",
       "      <th></th>\n",
       "      <th>ResponseId</th>\n",
       "      <th>MainBranch</th>\n",
       "      <th>Employment</th>\n",
       "      <th>RemoteWork</th>\n",
       "      <th>EdLevel</th>\n",
       "      <th>YearsCode</th>\n",
       "      <th>YearsCodePro</th>\n",
       "      <th>OrgSize</th>\n",
       "      <th>Country</th>\n",
       "      <th>LanguageHaveWorkedWith</th>\n",
       "      <th>Age</th>\n",
       "      <th>Gender</th>\n",
       "      <th>Trans</th>\n",
       "      <th>Sexuality</th>\n",
       "      <th>Ethnicity</th>\n",
       "      <th>Accessibility</th>\n",
       "      <th>MentalHealth</th>\n",
       "      <th>WorkExp</th>\n",
       "      <th>ConvertedCompYearly</th>\n",
       "    </tr>\n",
       "  </thead>\n",
       "  <tbody>\n",
       "    <tr>\n",
       "      <th>11</th>\n",
       "      <td>12</td>\n",
       "      <td>1</td>\n",
       "      <td>1</td>\n",
       "      <td>1</td>\n",
       "      <td>1</td>\n",
       "      <td>3</td>\n",
       "      <td>10</td>\n",
       "      <td>1</td>\n",
       "      <td>1</td>\n",
       "      <td>C#;HTML/CSS;JavaScript;PowerShell;Python;Rust;SQL</td>\n",
       "      <td>1</td>\n",
       "      <td>1</td>\n",
       "      <td>1</td>\n",
       "      <td>1</td>\n",
       "      <td>1</td>\n",
       "      <td>1</td>\n",
       "      <td>1</td>\n",
       "      <td>2.0</td>\n",
       "      <td>194400.0</td>\n",
       "    </tr>\n",
       "    <tr>\n",
       "      <th>12</th>\n",
       "      <td>13</td>\n",
       "      <td>2</td>\n",
       "      <td>2</td>\n",
       "      <td>2</td>\n",
       "      <td>1</td>\n",
       "      <td>3</td>\n",
       "      <td>5</td>\n",
       "      <td>2</td>\n",
       "      <td>1</td>\n",
       "      <td>C;HTML/CSS;Rust;SQL;Swift;TypeScript</td>\n",
       "      <td>2</td>\n",
       "      <td>1</td>\n",
       "      <td>1</td>\n",
       "      <td>1</td>\n",
       "      <td>1</td>\n",
       "      <td>1</td>\n",
       "      <td>2</td>\n",
       "      <td>1.0</td>\n",
       "      <td>65000.0</td>\n",
       "    </tr>\n",
       "    <tr>\n",
       "      <th>14</th>\n",
       "      <td>15</td>\n",
       "      <td>2</td>\n",
       "      <td>1</td>\n",
       "      <td>1</td>\n",
       "      <td>2</td>\n",
       "      <td>3</td>\n",
       "      <td>5</td>\n",
       "      <td>3</td>\n",
       "      <td>1</td>\n",
       "      <td>HTML/CSS;JavaScript;PHP;Python;R;Ruby;Scala</td>\n",
       "      <td>2</td>\n",
       "      <td>1</td>\n",
       "      <td>1</td>\n",
       "      <td>1</td>\n",
       "      <td>1</td>\n",
       "      <td>1</td>\n",
       "      <td>2</td>\n",
       "      <td>1.0</td>\n",
       "      <td>110000.0</td>\n",
       "    </tr>\n",
       "    <tr>\n",
       "      <th>21</th>\n",
       "      <td>22</td>\n",
       "      <td>2</td>\n",
       "      <td>2</td>\n",
       "      <td>2</td>\n",
       "      <td>2</td>\n",
       "      <td>2</td>\n",
       "      <td>4</td>\n",
       "      <td>1</td>\n",
       "      <td>2</td>\n",
       "      <td>Python;SQL;TypeScript</td>\n",
       "      <td>2</td>\n",
       "      <td>1</td>\n",
       "      <td>1</td>\n",
       "      <td>1</td>\n",
       "      <td>2</td>\n",
       "      <td>1</td>\n",
       "      <td>2</td>\n",
       "      <td>0.0</td>\n",
       "      <td>34126.0</td>\n",
       "    </tr>\n",
       "    <tr>\n",
       "      <th>22</th>\n",
       "      <td>23</td>\n",
       "      <td>2</td>\n",
       "      <td>2</td>\n",
       "      <td>1</td>\n",
       "      <td>3</td>\n",
       "      <td>4</td>\n",
       "      <td>20</td>\n",
       "      <td>4</td>\n",
       "      <td>3</td>\n",
       "      <td>C#;SQL;TypeScript</td>\n",
       "      <td>1</td>\n",
       "      <td>1</td>\n",
       "      <td>1</td>\n",
       "      <td>1</td>\n",
       "      <td>3</td>\n",
       "      <td>1</td>\n",
       "      <td>2</td>\n",
       "      <td>3.0</td>\n",
       "      <td>97605.0</td>\n",
       "    </tr>\n",
       "    <tr>\n",
       "      <th>...</th>\n",
       "      <td>...</td>\n",
       "      <td>...</td>\n",
       "      <td>...</td>\n",
       "      <td>...</td>\n",
       "      <td>...</td>\n",
       "      <td>...</td>\n",
       "      <td>...</td>\n",
       "      <td>...</td>\n",
       "      <td>...</td>\n",
       "      <td>...</td>\n",
       "      <td>...</td>\n",
       "      <td>...</td>\n",
       "      <td>...</td>\n",
       "      <td>...</td>\n",
       "      <td>...</td>\n",
       "      <td>...</td>\n",
       "      <td>...</td>\n",
       "      <td>...</td>\n",
       "      <td>...</td>\n",
       "    </tr>\n",
       "    <tr>\n",
       "      <th>73110</th>\n",
       "      <td>73111</td>\n",
       "      <td>2</td>\n",
       "      <td>2</td>\n",
       "      <td>1</td>\n",
       "      <td>1</td>\n",
       "      <td>3</td>\n",
       "      <td>9</td>\n",
       "      <td>1</td>\n",
       "      <td>3</td>\n",
       "      <td>C#;HTML/CSS;JavaScript;TypeScript</td>\n",
       "      <td>2</td>\n",
       "      <td>2</td>\n",
       "      <td>1</td>\n",
       "      <td>1</td>\n",
       "      <td>3</td>\n",
       "      <td>1</td>\n",
       "      <td>2</td>\n",
       "      <td>1.0</td>\n",
       "      <td>60906.0</td>\n",
       "    </tr>\n",
       "    <tr>\n",
       "      <th>73112</th>\n",
       "      <td>73113</td>\n",
       "      <td>2</td>\n",
       "      <td>2</td>\n",
       "      <td>2</td>\n",
       "      <td>1</td>\n",
       "      <td>2</td>\n",
       "      <td>3</td>\n",
       "      <td>5</td>\n",
       "      <td>24</td>\n",
       "      <td>HTML/CSS;Java;JavaScript</td>\n",
       "      <td>2</td>\n",
       "      <td>1</td>\n",
       "      <td>1</td>\n",
       "      <td>1</td>\n",
       "      <td>2</td>\n",
       "      <td>1</td>\n",
       "      <td>2</td>\n",
       "      <td>0.0</td>\n",
       "      <td>52255.0</td>\n",
       "    </tr>\n",
       "    <tr>\n",
       "      <th>73113</th>\n",
       "      <td>73114</td>\n",
       "      <td>2</td>\n",
       "      <td>2</td>\n",
       "      <td>1</td>\n",
       "      <td>2</td>\n",
       "      <td>2</td>\n",
       "      <td>5</td>\n",
       "      <td>5</td>\n",
       "      <td>1</td>\n",
       "      <td>C;C#;C++</td>\n",
       "      <td>2</td>\n",
       "      <td>1</td>\n",
       "      <td>1</td>\n",
       "      <td>1</td>\n",
       "      <td>1</td>\n",
       "      <td>1</td>\n",
       "      <td>9</td>\n",
       "      <td>1.0</td>\n",
       "      <td>94000.0</td>\n",
       "    </tr>\n",
       "    <tr>\n",
       "      <th>73116</th>\n",
       "      <td>73117</td>\n",
       "      <td>2</td>\n",
       "      <td>2</td>\n",
       "      <td>2</td>\n",
       "      <td>1</td>\n",
       "      <td>4</td>\n",
       "      <td>16</td>\n",
       "      <td>9</td>\n",
       "      <td>1</td>\n",
       "      <td>C#;HTML/CSS;Java;JavaScript</td>\n",
       "      <td>1</td>\n",
       "      <td>1</td>\n",
       "      <td>1</td>\n",
       "      <td>1</td>\n",
       "      <td>1</td>\n",
       "      <td>1</td>\n",
       "      <td>2</td>\n",
       "      <td>2.0</td>\n",
       "      <td>115000.0</td>\n",
       "    </tr>\n",
       "    <tr>\n",
       "      <th>73119</th>\n",
       "      <td>73120</td>\n",
       "      <td>2</td>\n",
       "      <td>2</td>\n",
       "      <td>2</td>\n",
       "      <td>1</td>\n",
       "      <td>2</td>\n",
       "      <td>1</td>\n",
       "      <td>3</td>\n",
       "      <td>1</td>\n",
       "      <td>C#;HTML/CSS;JavaScript;SQL;TypeScript</td>\n",
       "      <td>2</td>\n",
       "      <td>1</td>\n",
       "      <td>1</td>\n",
       "      <td>1</td>\n",
       "      <td>1</td>\n",
       "      <td>4</td>\n",
       "      <td>9</td>\n",
       "      <td>1.0</td>\n",
       "      <td>70000.0</td>\n",
       "    </tr>\n",
       "  </tbody>\n",
       "</table>\n",
       "<p>21290 rows × 19 columns</p>\n",
       "</div>"
      ],
      "text/plain": [
       "       ResponseId MainBranch Employment RemoteWork EdLevel YearsCode  \\\n",
       "11             12          1          1          1       1         3   \n",
       "12             13          2          2          2       1         3   \n",
       "14             15          2          1          1       2         3   \n",
       "21             22          2          2          2       2         2   \n",
       "22             23          2          2          1       3         4   \n",
       "...           ...        ...        ...        ...     ...       ...   \n",
       "73110       73111          2          2          1       1         3   \n",
       "73112       73113          2          2          2       1         2   \n",
       "73113       73114          2          2          1       2         2   \n",
       "73116       73117          2          2          2       1         4   \n",
       "73119       73120          2          2          2       1         2   \n",
       "\n",
       "      YearsCodePro OrgSize Country  \\\n",
       "11              10       1       1   \n",
       "12               5       2       1   \n",
       "14               5       3       1   \n",
       "21               4       1       2   \n",
       "22              20       4       3   \n",
       "...            ...     ...     ...   \n",
       "73110            9       1       3   \n",
       "73112            3       5      24   \n",
       "73113            5       5       1   \n",
       "73116           16       9       1   \n",
       "73119            1       3       1   \n",
       "\n",
       "                                  LanguageHaveWorkedWith Age Gender Trans  \\\n",
       "11     C#;HTML/CSS;JavaScript;PowerShell;Python;Rust;SQL   1      1     1   \n",
       "12                  C;HTML/CSS;Rust;SQL;Swift;TypeScript   2      1     1   \n",
       "14           HTML/CSS;JavaScript;PHP;Python;R;Ruby;Scala   2      1     1   \n",
       "21                                 Python;SQL;TypeScript   2      1     1   \n",
       "22                                     C#;SQL;TypeScript   1      1     1   \n",
       "...                                                  ...  ..    ...   ...   \n",
       "73110                  C#;HTML/CSS;JavaScript;TypeScript   2      2     1   \n",
       "73112                           HTML/CSS;Java;JavaScript   2      1     1   \n",
       "73113                                           C;C#;C++   2      1     1   \n",
       "73116                        C#;HTML/CSS;Java;JavaScript   1      1     1   \n",
       "73119              C#;HTML/CSS;JavaScript;SQL;TypeScript   2      1     1   \n",
       "\n",
       "      Sexuality Ethnicity Accessibility MentalHealth  WorkExp  \\\n",
       "11            1         1             1            1      2.0   \n",
       "12            1         1             1            2      1.0   \n",
       "14            1         1             1            2      1.0   \n",
       "21            1         2             1            2      0.0   \n",
       "22            1         3             1            2      3.0   \n",
       "...         ...       ...           ...          ...      ...   \n",
       "73110         1         3             1            2      1.0   \n",
       "73112         1         2             1            2      0.0   \n",
       "73113         1         1             1            9      1.0   \n",
       "73116         1         1             1            2      2.0   \n",
       "73119         1         1             4            9      1.0   \n",
       "\n",
       "       ConvertedCompYearly  \n",
       "11                194400.0  \n",
       "12                 65000.0  \n",
       "14                110000.0  \n",
       "21                 34126.0  \n",
       "22                 97605.0  \n",
       "...                    ...  \n",
       "73110              60906.0  \n",
       "73112              52255.0  \n",
       "73113              94000.0  \n",
       "73116             115000.0  \n",
       "73119              70000.0  \n",
       "\n",
       "[21290 rows x 19 columns]"
      ]
     },
     "execution_count": 49,
     "metadata": {},
     "output_type": "execute_result"
    }
   ],
   "source": [
    "df"
   ]
  },
  {
   "cell_type": "markdown",
   "id": "a66823f9",
   "metadata": {},
   "source": [
    "### the following 2 functions will make new columns with the names of all languages and write 1, if person knows this language and 0 otherwise"
   ]
  },
  {
   "cell_type": "code",
   "execution_count": 50,
   "id": "9638b8b4",
   "metadata": {},
   "outputs": [],
   "source": [
    "# function that return 1 person knows each language in the list and 0 otherwise\n",
    "def process_list(lst):\n",
    "    languages = ['C#', 'C', 'HTML/CSS', 'Python' ,'Dart' ,'Bash/Shell' ,'JavaScript' ,'Java',\n",
    " 'Haskell', 'Assembly', 'Go', 'Groovy', 'Crystal' ,'PHP' ,'Delphi' ,'C++',\n",
    " 'Clojure' ,'Kotlin', 'APL', 'Rust' ,'TypeScript', 'COBOL' ,'PowerShell' ,'Scala',\n",
    " 'Elixir', 'F#' ,'LISP' ,'Ruby', 'Julia' ,'MATLAB', 'Objective-C' ,'Erlang',\n",
    " 'Swift', 'Fortran', 'OCaml' ,'R' ,'SQL', 'Perl' ,'Lua' ,'VBA']\n",
    "    result = \"\"\n",
    "    lst = lst.split(';')\n",
    "    for lang in languages:\n",
    "        if lang in lst:\n",
    "            result += \"1,\"\n",
    "        else:\n",
    "            result += \"0,\"\n",
    "    return result[:-1]  # Remove the trailing comma\n",
    "\n",
    "\n",
    "# Apply the function to the column and create a new column\n",
    "df.loc[:,'new_column'] = df['LanguageHaveWorkedWith'].apply(process_list)"
   ]
  },
  {
   "cell_type": "code",
   "execution_count": 51,
   "id": "f932cc8a",
   "metadata": {},
   "outputs": [],
   "source": [
    "## add new colums with languges names\n",
    "\n",
    "\n",
    "# Specifying the column names\n",
    "column_names = ['C#', 'C', 'HTML/CSS', 'Python', 'Dart', 'Bash/Shell', 'JavaScript', 'Java',\n",
    "                'Haskell', 'Assembly', 'Go', 'Groovy', 'Crystal', 'PHP', 'Delphi', 'C++',\n",
    "                'Clojure', 'Kotlin', 'APL', 'Rust', 'TypeScript', 'COBOL', 'PowerShell',\n",
    "                'Scala', 'Elixir', 'F#', 'LISP', 'Ruby', 'Julia', 'MATLAB', 'Objective-C',\n",
    "                'Erlang', 'Swift', 'Fortran', 'OCaml', 'R', 'SQL', 'Perl', 'Lua', 'VBA']\n",
    "\n",
    "\n",
    "# Splitting the 'new_column' and assigning to the new DataFrame\n",
    "df[column_names] = df['new_column'].str.split(',', expand=True)\n",
    "\n",
    "df[column_names] = df[column_names].astype(int)"
   ]
  },
  {
   "cell_type": "code",
   "execution_count": 52,
   "id": "ddaf9826",
   "metadata": {},
   "outputs": [
    {
     "data": {
      "text/html": [
       "<div>\n",
       "<style scoped>\n",
       "    .dataframe tbody tr th:only-of-type {\n",
       "        vertical-align: middle;\n",
       "    }\n",
       "\n",
       "    .dataframe tbody tr th {\n",
       "        vertical-align: top;\n",
       "    }\n",
       "\n",
       "    .dataframe thead th {\n",
       "        text-align: right;\n",
       "    }\n",
       "</style>\n",
       "<table border=\"1\" class=\"dataframe\">\n",
       "  <thead>\n",
       "    <tr style=\"text-align: right;\">\n",
       "      <th></th>\n",
       "      <th>ResponseId</th>\n",
       "      <th>MainBranch</th>\n",
       "      <th>Employment</th>\n",
       "      <th>RemoteWork</th>\n",
       "      <th>EdLevel</th>\n",
       "      <th>YearsCode</th>\n",
       "      <th>YearsCodePro</th>\n",
       "      <th>OrgSize</th>\n",
       "      <th>Country</th>\n",
       "      <th>LanguageHaveWorkedWith</th>\n",
       "      <th>...</th>\n",
       "      <th>Objective-C</th>\n",
       "      <th>Erlang</th>\n",
       "      <th>Swift</th>\n",
       "      <th>Fortran</th>\n",
       "      <th>OCaml</th>\n",
       "      <th>R</th>\n",
       "      <th>SQL</th>\n",
       "      <th>Perl</th>\n",
       "      <th>Lua</th>\n",
       "      <th>VBA</th>\n",
       "    </tr>\n",
       "  </thead>\n",
       "  <tbody>\n",
       "    <tr>\n",
       "      <th>11</th>\n",
       "      <td>12</td>\n",
       "      <td>1</td>\n",
       "      <td>1</td>\n",
       "      <td>1</td>\n",
       "      <td>1</td>\n",
       "      <td>3</td>\n",
       "      <td>10</td>\n",
       "      <td>1</td>\n",
       "      <td>1</td>\n",
       "      <td>C#;HTML/CSS;JavaScript;PowerShell;Python;Rust;SQL</td>\n",
       "      <td>...</td>\n",
       "      <td>0</td>\n",
       "      <td>0</td>\n",
       "      <td>0</td>\n",
       "      <td>0</td>\n",
       "      <td>0</td>\n",
       "      <td>0</td>\n",
       "      <td>1</td>\n",
       "      <td>0</td>\n",
       "      <td>0</td>\n",
       "      <td>0</td>\n",
       "    </tr>\n",
       "    <tr>\n",
       "      <th>12</th>\n",
       "      <td>13</td>\n",
       "      <td>2</td>\n",
       "      <td>2</td>\n",
       "      <td>2</td>\n",
       "      <td>1</td>\n",
       "      <td>3</td>\n",
       "      <td>5</td>\n",
       "      <td>2</td>\n",
       "      <td>1</td>\n",
       "      <td>C;HTML/CSS;Rust;SQL;Swift;TypeScript</td>\n",
       "      <td>...</td>\n",
       "      <td>0</td>\n",
       "      <td>0</td>\n",
       "      <td>1</td>\n",
       "      <td>0</td>\n",
       "      <td>0</td>\n",
       "      <td>0</td>\n",
       "      <td>1</td>\n",
       "      <td>0</td>\n",
       "      <td>0</td>\n",
       "      <td>0</td>\n",
       "    </tr>\n",
       "    <tr>\n",
       "      <th>14</th>\n",
       "      <td>15</td>\n",
       "      <td>2</td>\n",
       "      <td>1</td>\n",
       "      <td>1</td>\n",
       "      <td>2</td>\n",
       "      <td>3</td>\n",
       "      <td>5</td>\n",
       "      <td>3</td>\n",
       "      <td>1</td>\n",
       "      <td>HTML/CSS;JavaScript;PHP;Python;R;Ruby;Scala</td>\n",
       "      <td>...</td>\n",
       "      <td>0</td>\n",
       "      <td>0</td>\n",
       "      <td>0</td>\n",
       "      <td>0</td>\n",
       "      <td>0</td>\n",
       "      <td>1</td>\n",
       "      <td>0</td>\n",
       "      <td>0</td>\n",
       "      <td>0</td>\n",
       "      <td>0</td>\n",
       "    </tr>\n",
       "    <tr>\n",
       "      <th>21</th>\n",
       "      <td>22</td>\n",
       "      <td>2</td>\n",
       "      <td>2</td>\n",
       "      <td>2</td>\n",
       "      <td>2</td>\n",
       "      <td>2</td>\n",
       "      <td>4</td>\n",
       "      <td>1</td>\n",
       "      <td>2</td>\n",
       "      <td>Python;SQL;TypeScript</td>\n",
       "      <td>...</td>\n",
       "      <td>0</td>\n",
       "      <td>0</td>\n",
       "      <td>0</td>\n",
       "      <td>0</td>\n",
       "      <td>0</td>\n",
       "      <td>0</td>\n",
       "      <td>1</td>\n",
       "      <td>0</td>\n",
       "      <td>0</td>\n",
       "      <td>0</td>\n",
       "    </tr>\n",
       "    <tr>\n",
       "      <th>22</th>\n",
       "      <td>23</td>\n",
       "      <td>2</td>\n",
       "      <td>2</td>\n",
       "      <td>1</td>\n",
       "      <td>3</td>\n",
       "      <td>4</td>\n",
       "      <td>20</td>\n",
       "      <td>4</td>\n",
       "      <td>3</td>\n",
       "      <td>C#;SQL;TypeScript</td>\n",
       "      <td>...</td>\n",
       "      <td>0</td>\n",
       "      <td>0</td>\n",
       "      <td>0</td>\n",
       "      <td>0</td>\n",
       "      <td>0</td>\n",
       "      <td>0</td>\n",
       "      <td>1</td>\n",
       "      <td>0</td>\n",
       "      <td>0</td>\n",
       "      <td>0</td>\n",
       "    </tr>\n",
       "    <tr>\n",
       "      <th>...</th>\n",
       "      <td>...</td>\n",
       "      <td>...</td>\n",
       "      <td>...</td>\n",
       "      <td>...</td>\n",
       "      <td>...</td>\n",
       "      <td>...</td>\n",
       "      <td>...</td>\n",
       "      <td>...</td>\n",
       "      <td>...</td>\n",
       "      <td>...</td>\n",
       "      <td>...</td>\n",
       "      <td>...</td>\n",
       "      <td>...</td>\n",
       "      <td>...</td>\n",
       "      <td>...</td>\n",
       "      <td>...</td>\n",
       "      <td>...</td>\n",
       "      <td>...</td>\n",
       "      <td>...</td>\n",
       "      <td>...</td>\n",
       "      <td>...</td>\n",
       "    </tr>\n",
       "    <tr>\n",
       "      <th>73110</th>\n",
       "      <td>73111</td>\n",
       "      <td>2</td>\n",
       "      <td>2</td>\n",
       "      <td>1</td>\n",
       "      <td>1</td>\n",
       "      <td>3</td>\n",
       "      <td>9</td>\n",
       "      <td>1</td>\n",
       "      <td>3</td>\n",
       "      <td>C#;HTML/CSS;JavaScript;TypeScript</td>\n",
       "      <td>...</td>\n",
       "      <td>0</td>\n",
       "      <td>0</td>\n",
       "      <td>0</td>\n",
       "      <td>0</td>\n",
       "      <td>0</td>\n",
       "      <td>0</td>\n",
       "      <td>0</td>\n",
       "      <td>0</td>\n",
       "      <td>0</td>\n",
       "      <td>0</td>\n",
       "    </tr>\n",
       "    <tr>\n",
       "      <th>73112</th>\n",
       "      <td>73113</td>\n",
       "      <td>2</td>\n",
       "      <td>2</td>\n",
       "      <td>2</td>\n",
       "      <td>1</td>\n",
       "      <td>2</td>\n",
       "      <td>3</td>\n",
       "      <td>5</td>\n",
       "      <td>24</td>\n",
       "      <td>HTML/CSS;Java;JavaScript</td>\n",
       "      <td>...</td>\n",
       "      <td>0</td>\n",
       "      <td>0</td>\n",
       "      <td>0</td>\n",
       "      <td>0</td>\n",
       "      <td>0</td>\n",
       "      <td>0</td>\n",
       "      <td>0</td>\n",
       "      <td>0</td>\n",
       "      <td>0</td>\n",
       "      <td>0</td>\n",
       "    </tr>\n",
       "    <tr>\n",
       "      <th>73113</th>\n",
       "      <td>73114</td>\n",
       "      <td>2</td>\n",
       "      <td>2</td>\n",
       "      <td>1</td>\n",
       "      <td>2</td>\n",
       "      <td>2</td>\n",
       "      <td>5</td>\n",
       "      <td>5</td>\n",
       "      <td>1</td>\n",
       "      <td>C;C#;C++</td>\n",
       "      <td>...</td>\n",
       "      <td>0</td>\n",
       "      <td>0</td>\n",
       "      <td>0</td>\n",
       "      <td>0</td>\n",
       "      <td>0</td>\n",
       "      <td>0</td>\n",
       "      <td>0</td>\n",
       "      <td>0</td>\n",
       "      <td>0</td>\n",
       "      <td>0</td>\n",
       "    </tr>\n",
       "    <tr>\n",
       "      <th>73116</th>\n",
       "      <td>73117</td>\n",
       "      <td>2</td>\n",
       "      <td>2</td>\n",
       "      <td>2</td>\n",
       "      <td>1</td>\n",
       "      <td>4</td>\n",
       "      <td>16</td>\n",
       "      <td>9</td>\n",
       "      <td>1</td>\n",
       "      <td>C#;HTML/CSS;Java;JavaScript</td>\n",
       "      <td>...</td>\n",
       "      <td>0</td>\n",
       "      <td>0</td>\n",
       "      <td>0</td>\n",
       "      <td>0</td>\n",
       "      <td>0</td>\n",
       "      <td>0</td>\n",
       "      <td>0</td>\n",
       "      <td>0</td>\n",
       "      <td>0</td>\n",
       "      <td>0</td>\n",
       "    </tr>\n",
       "    <tr>\n",
       "      <th>73119</th>\n",
       "      <td>73120</td>\n",
       "      <td>2</td>\n",
       "      <td>2</td>\n",
       "      <td>2</td>\n",
       "      <td>1</td>\n",
       "      <td>2</td>\n",
       "      <td>1</td>\n",
       "      <td>3</td>\n",
       "      <td>1</td>\n",
       "      <td>C#;HTML/CSS;JavaScript;SQL;TypeScript</td>\n",
       "      <td>...</td>\n",
       "      <td>0</td>\n",
       "      <td>0</td>\n",
       "      <td>0</td>\n",
       "      <td>0</td>\n",
       "      <td>0</td>\n",
       "      <td>0</td>\n",
       "      <td>1</td>\n",
       "      <td>0</td>\n",
       "      <td>0</td>\n",
       "      <td>0</td>\n",
       "    </tr>\n",
       "  </tbody>\n",
       "</table>\n",
       "<p>21290 rows × 60 columns</p>\n",
       "</div>"
      ],
      "text/plain": [
       "       ResponseId MainBranch Employment RemoteWork EdLevel YearsCode  \\\n",
       "11             12          1          1          1       1         3   \n",
       "12             13          2          2          2       1         3   \n",
       "14             15          2          1          1       2         3   \n",
       "21             22          2          2          2       2         2   \n",
       "22             23          2          2          1       3         4   \n",
       "...           ...        ...        ...        ...     ...       ...   \n",
       "73110       73111          2          2          1       1         3   \n",
       "73112       73113          2          2          2       1         2   \n",
       "73113       73114          2          2          1       2         2   \n",
       "73116       73117          2          2          2       1         4   \n",
       "73119       73120          2          2          2       1         2   \n",
       "\n",
       "      YearsCodePro OrgSize Country  \\\n",
       "11              10       1       1   \n",
       "12               5       2       1   \n",
       "14               5       3       1   \n",
       "21               4       1       2   \n",
       "22              20       4       3   \n",
       "...            ...     ...     ...   \n",
       "73110            9       1       3   \n",
       "73112            3       5      24   \n",
       "73113            5       5       1   \n",
       "73116           16       9       1   \n",
       "73119            1       3       1   \n",
       "\n",
       "                                  LanguageHaveWorkedWith  ... Objective-C  \\\n",
       "11     C#;HTML/CSS;JavaScript;PowerShell;Python;Rust;SQL  ...           0   \n",
       "12                  C;HTML/CSS;Rust;SQL;Swift;TypeScript  ...           0   \n",
       "14           HTML/CSS;JavaScript;PHP;Python;R;Ruby;Scala  ...           0   \n",
       "21                                 Python;SQL;TypeScript  ...           0   \n",
       "22                                     C#;SQL;TypeScript  ...           0   \n",
       "...                                                  ...  ...         ...   \n",
       "73110                  C#;HTML/CSS;JavaScript;TypeScript  ...           0   \n",
       "73112                           HTML/CSS;Java;JavaScript  ...           0   \n",
       "73113                                           C;C#;C++  ...           0   \n",
       "73116                        C#;HTML/CSS;Java;JavaScript  ...           0   \n",
       "73119              C#;HTML/CSS;JavaScript;SQL;TypeScript  ...           0   \n",
       "\n",
       "      Erlang Swift Fortran OCaml  R SQL  Perl  Lua VBA  \n",
       "11         0     0       0     0  0   1     0    0   0  \n",
       "12         0     1       0     0  0   1     0    0   0  \n",
       "14         0     0       0     0  1   0     0    0   0  \n",
       "21         0     0       0     0  0   1     0    0   0  \n",
       "22         0     0       0     0  0   1     0    0   0  \n",
       "...      ...   ...     ...   ... ..  ..   ...  ...  ..  \n",
       "73110      0     0       0     0  0   0     0    0   0  \n",
       "73112      0     0       0     0  0   0     0    0   0  \n",
       "73113      0     0       0     0  0   0     0    0   0  \n",
       "73116      0     0       0     0  0   0     0    0   0  \n",
       "73119      0     0       0     0  0   1     0    0   0  \n",
       "\n",
       "[21290 rows x 60 columns]"
      ]
     },
     "execution_count": 52,
     "metadata": {},
     "output_type": "execute_result"
    }
   ],
   "source": [
    "df"
   ]
  },
  {
   "cell_type": "code",
   "execution_count": 53,
   "id": "fe9c7a6a",
   "metadata": {
    "scrolled": true
   },
   "outputs": [
    {
     "name": "stdout",
     "output_type": "stream",
     "text": [
      "Empty DataFrame\n",
      "Columns: [ResponseId, MainBranch, Employment, RemoteWork, EdLevel, YearsCode, YearsCodePro, OrgSize, Country, LanguageHaveWorkedWith, Age, Gender, Trans, Sexuality, Ethnicity, Accessibility, MentalHealth, WorkExp, ConvertedCompYearly, new_column, C#, C, HTML/CSS, Python, Dart, Bash/Shell, JavaScript, Java, Haskell, Assembly, Go, Groovy, Crystal, PHP, Delphi, C++, Clojure, Kotlin, APL, Rust, TypeScript, COBOL, PowerShell, Scala, Elixir, F#, LISP, Ruby, Julia, MATLAB, Objective-C, Erlang, Swift, Fortran, OCaml, R, SQL, Perl, Lua, VBA]\n",
      "Index: []\n",
      "\n",
      "[0 rows x 60 columns]\n"
     ]
    }
   ],
   "source": [
    "print(df.head(0))"
   ]
  },
  {
   "cell_type": "markdown",
   "id": "e12c3a5a",
   "metadata": {},
   "source": [
    "### now let's drop unuseful columns again"
   ]
  },
  {
   "cell_type": "code",
   "execution_count": 54,
   "id": "83d00133",
   "metadata": {},
   "outputs": [],
   "source": [
    "df = df.drop(columns=['LanguageHaveWorkedWith', 'new_column', 'YearsCodePro'])"
   ]
  },
  {
   "cell_type": "code",
   "execution_count": 55,
   "id": "f22dc613",
   "metadata": {},
   "outputs": [
    {
     "data": {
      "text/html": [
       "<div>\n",
       "<style scoped>\n",
       "    .dataframe tbody tr th:only-of-type {\n",
       "        vertical-align: middle;\n",
       "    }\n",
       "\n",
       "    .dataframe tbody tr th {\n",
       "        vertical-align: top;\n",
       "    }\n",
       "\n",
       "    .dataframe thead th {\n",
       "        text-align: right;\n",
       "    }\n",
       "</style>\n",
       "<table border=\"1\" class=\"dataframe\">\n",
       "  <thead>\n",
       "    <tr style=\"text-align: right;\">\n",
       "      <th></th>\n",
       "      <th>ResponseId</th>\n",
       "      <th>MainBranch</th>\n",
       "      <th>Employment</th>\n",
       "      <th>RemoteWork</th>\n",
       "      <th>EdLevel</th>\n",
       "      <th>YearsCode</th>\n",
       "      <th>OrgSize</th>\n",
       "      <th>Country</th>\n",
       "      <th>Age</th>\n",
       "      <th>Gender</th>\n",
       "      <th>...</th>\n",
       "      <th>Objective-C</th>\n",
       "      <th>Erlang</th>\n",
       "      <th>Swift</th>\n",
       "      <th>Fortran</th>\n",
       "      <th>OCaml</th>\n",
       "      <th>R</th>\n",
       "      <th>SQL</th>\n",
       "      <th>Perl</th>\n",
       "      <th>Lua</th>\n",
       "      <th>VBA</th>\n",
       "    </tr>\n",
       "  </thead>\n",
       "  <tbody>\n",
       "    <tr>\n",
       "      <th>11</th>\n",
       "      <td>12</td>\n",
       "      <td>1</td>\n",
       "      <td>1</td>\n",
       "      <td>1</td>\n",
       "      <td>1</td>\n",
       "      <td>3</td>\n",
       "      <td>1</td>\n",
       "      <td>1</td>\n",
       "      <td>1</td>\n",
       "      <td>1</td>\n",
       "      <td>...</td>\n",
       "      <td>0</td>\n",
       "      <td>0</td>\n",
       "      <td>0</td>\n",
       "      <td>0</td>\n",
       "      <td>0</td>\n",
       "      <td>0</td>\n",
       "      <td>1</td>\n",
       "      <td>0</td>\n",
       "      <td>0</td>\n",
       "      <td>0</td>\n",
       "    </tr>\n",
       "    <tr>\n",
       "      <th>12</th>\n",
       "      <td>13</td>\n",
       "      <td>2</td>\n",
       "      <td>2</td>\n",
       "      <td>2</td>\n",
       "      <td>1</td>\n",
       "      <td>3</td>\n",
       "      <td>2</td>\n",
       "      <td>1</td>\n",
       "      <td>2</td>\n",
       "      <td>1</td>\n",
       "      <td>...</td>\n",
       "      <td>0</td>\n",
       "      <td>0</td>\n",
       "      <td>1</td>\n",
       "      <td>0</td>\n",
       "      <td>0</td>\n",
       "      <td>0</td>\n",
       "      <td>1</td>\n",
       "      <td>0</td>\n",
       "      <td>0</td>\n",
       "      <td>0</td>\n",
       "    </tr>\n",
       "    <tr>\n",
       "      <th>14</th>\n",
       "      <td>15</td>\n",
       "      <td>2</td>\n",
       "      <td>1</td>\n",
       "      <td>1</td>\n",
       "      <td>2</td>\n",
       "      <td>3</td>\n",
       "      <td>3</td>\n",
       "      <td>1</td>\n",
       "      <td>2</td>\n",
       "      <td>1</td>\n",
       "      <td>...</td>\n",
       "      <td>0</td>\n",
       "      <td>0</td>\n",
       "      <td>0</td>\n",
       "      <td>0</td>\n",
       "      <td>0</td>\n",
       "      <td>1</td>\n",
       "      <td>0</td>\n",
       "      <td>0</td>\n",
       "      <td>0</td>\n",
       "      <td>0</td>\n",
       "    </tr>\n",
       "    <tr>\n",
       "      <th>21</th>\n",
       "      <td>22</td>\n",
       "      <td>2</td>\n",
       "      <td>2</td>\n",
       "      <td>2</td>\n",
       "      <td>2</td>\n",
       "      <td>2</td>\n",
       "      <td>1</td>\n",
       "      <td>2</td>\n",
       "      <td>2</td>\n",
       "      <td>1</td>\n",
       "      <td>...</td>\n",
       "      <td>0</td>\n",
       "      <td>0</td>\n",
       "      <td>0</td>\n",
       "      <td>0</td>\n",
       "      <td>0</td>\n",
       "      <td>0</td>\n",
       "      <td>1</td>\n",
       "      <td>0</td>\n",
       "      <td>0</td>\n",
       "      <td>0</td>\n",
       "    </tr>\n",
       "    <tr>\n",
       "      <th>22</th>\n",
       "      <td>23</td>\n",
       "      <td>2</td>\n",
       "      <td>2</td>\n",
       "      <td>1</td>\n",
       "      <td>3</td>\n",
       "      <td>4</td>\n",
       "      <td>4</td>\n",
       "      <td>3</td>\n",
       "      <td>1</td>\n",
       "      <td>1</td>\n",
       "      <td>...</td>\n",
       "      <td>0</td>\n",
       "      <td>0</td>\n",
       "      <td>0</td>\n",
       "      <td>0</td>\n",
       "      <td>0</td>\n",
       "      <td>0</td>\n",
       "      <td>1</td>\n",
       "      <td>0</td>\n",
       "      <td>0</td>\n",
       "      <td>0</td>\n",
       "    </tr>\n",
       "    <tr>\n",
       "      <th>...</th>\n",
       "      <td>...</td>\n",
       "      <td>...</td>\n",
       "      <td>...</td>\n",
       "      <td>...</td>\n",
       "      <td>...</td>\n",
       "      <td>...</td>\n",
       "      <td>...</td>\n",
       "      <td>...</td>\n",
       "      <td>...</td>\n",
       "      <td>...</td>\n",
       "      <td>...</td>\n",
       "      <td>...</td>\n",
       "      <td>...</td>\n",
       "      <td>...</td>\n",
       "      <td>...</td>\n",
       "      <td>...</td>\n",
       "      <td>...</td>\n",
       "      <td>...</td>\n",
       "      <td>...</td>\n",
       "      <td>...</td>\n",
       "      <td>...</td>\n",
       "    </tr>\n",
       "    <tr>\n",
       "      <th>73110</th>\n",
       "      <td>73111</td>\n",
       "      <td>2</td>\n",
       "      <td>2</td>\n",
       "      <td>1</td>\n",
       "      <td>1</td>\n",
       "      <td>3</td>\n",
       "      <td>1</td>\n",
       "      <td>3</td>\n",
       "      <td>2</td>\n",
       "      <td>2</td>\n",
       "      <td>...</td>\n",
       "      <td>0</td>\n",
       "      <td>0</td>\n",
       "      <td>0</td>\n",
       "      <td>0</td>\n",
       "      <td>0</td>\n",
       "      <td>0</td>\n",
       "      <td>0</td>\n",
       "      <td>0</td>\n",
       "      <td>0</td>\n",
       "      <td>0</td>\n",
       "    </tr>\n",
       "    <tr>\n",
       "      <th>73112</th>\n",
       "      <td>73113</td>\n",
       "      <td>2</td>\n",
       "      <td>2</td>\n",
       "      <td>2</td>\n",
       "      <td>1</td>\n",
       "      <td>2</td>\n",
       "      <td>5</td>\n",
       "      <td>24</td>\n",
       "      <td>2</td>\n",
       "      <td>1</td>\n",
       "      <td>...</td>\n",
       "      <td>0</td>\n",
       "      <td>0</td>\n",
       "      <td>0</td>\n",
       "      <td>0</td>\n",
       "      <td>0</td>\n",
       "      <td>0</td>\n",
       "      <td>0</td>\n",
       "      <td>0</td>\n",
       "      <td>0</td>\n",
       "      <td>0</td>\n",
       "    </tr>\n",
       "    <tr>\n",
       "      <th>73113</th>\n",
       "      <td>73114</td>\n",
       "      <td>2</td>\n",
       "      <td>2</td>\n",
       "      <td>1</td>\n",
       "      <td>2</td>\n",
       "      <td>2</td>\n",
       "      <td>5</td>\n",
       "      <td>1</td>\n",
       "      <td>2</td>\n",
       "      <td>1</td>\n",
       "      <td>...</td>\n",
       "      <td>0</td>\n",
       "      <td>0</td>\n",
       "      <td>0</td>\n",
       "      <td>0</td>\n",
       "      <td>0</td>\n",
       "      <td>0</td>\n",
       "      <td>0</td>\n",
       "      <td>0</td>\n",
       "      <td>0</td>\n",
       "      <td>0</td>\n",
       "    </tr>\n",
       "    <tr>\n",
       "      <th>73116</th>\n",
       "      <td>73117</td>\n",
       "      <td>2</td>\n",
       "      <td>2</td>\n",
       "      <td>2</td>\n",
       "      <td>1</td>\n",
       "      <td>4</td>\n",
       "      <td>9</td>\n",
       "      <td>1</td>\n",
       "      <td>1</td>\n",
       "      <td>1</td>\n",
       "      <td>...</td>\n",
       "      <td>0</td>\n",
       "      <td>0</td>\n",
       "      <td>0</td>\n",
       "      <td>0</td>\n",
       "      <td>0</td>\n",
       "      <td>0</td>\n",
       "      <td>0</td>\n",
       "      <td>0</td>\n",
       "      <td>0</td>\n",
       "      <td>0</td>\n",
       "    </tr>\n",
       "    <tr>\n",
       "      <th>73119</th>\n",
       "      <td>73120</td>\n",
       "      <td>2</td>\n",
       "      <td>2</td>\n",
       "      <td>2</td>\n",
       "      <td>1</td>\n",
       "      <td>2</td>\n",
       "      <td>3</td>\n",
       "      <td>1</td>\n",
       "      <td>2</td>\n",
       "      <td>1</td>\n",
       "      <td>...</td>\n",
       "      <td>0</td>\n",
       "      <td>0</td>\n",
       "      <td>0</td>\n",
       "      <td>0</td>\n",
       "      <td>0</td>\n",
       "      <td>0</td>\n",
       "      <td>1</td>\n",
       "      <td>0</td>\n",
       "      <td>0</td>\n",
       "      <td>0</td>\n",
       "    </tr>\n",
       "  </tbody>\n",
       "</table>\n",
       "<p>21290 rows × 57 columns</p>\n",
       "</div>"
      ],
      "text/plain": [
       "       ResponseId MainBranch Employment RemoteWork EdLevel YearsCode OrgSize  \\\n",
       "11             12          1          1          1       1         3       1   \n",
       "12             13          2          2          2       1         3       2   \n",
       "14             15          2          1          1       2         3       3   \n",
       "21             22          2          2          2       2         2       1   \n",
       "22             23          2          2          1       3         4       4   \n",
       "...           ...        ...        ...        ...     ...       ...     ...   \n",
       "73110       73111          2          2          1       1         3       1   \n",
       "73112       73113          2          2          2       1         2       5   \n",
       "73113       73114          2          2          1       2         2       5   \n",
       "73116       73117          2          2          2       1         4       9   \n",
       "73119       73120          2          2          2       1         2       3   \n",
       "\n",
       "      Country Age Gender  ... Objective-C Erlang Swift Fortran OCaml  R  SQL  \\\n",
       "11          1   1      1  ...           0      0     0       0     0  0    1   \n",
       "12          1   2      1  ...           0      0     1       0     0  0    1   \n",
       "14          1   2      1  ...           0      0     0       0     0  1    0   \n",
       "21          2   2      1  ...           0      0     0       0     0  0    1   \n",
       "22          3   1      1  ...           0      0     0       0     0  0    1   \n",
       "...       ...  ..    ...  ...         ...    ...   ...     ...   ... ..  ...   \n",
       "73110       3   2      2  ...           0      0     0       0     0  0    0   \n",
       "73112      24   2      1  ...           0      0     0       0     0  0    0   \n",
       "73113       1   2      1  ...           0      0     0       0     0  0    0   \n",
       "73116       1   1      1  ...           0      0     0       0     0  0    0   \n",
       "73119       1   2      1  ...           0      0     0       0     0  0    1   \n",
       "\n",
       "       Perl  Lua  VBA  \n",
       "11        0    0    0  \n",
       "12        0    0    0  \n",
       "14        0    0    0  \n",
       "21        0    0    0  \n",
       "22        0    0    0  \n",
       "...     ...  ...  ...  \n",
       "73110     0    0    0  \n",
       "73112     0    0    0  \n",
       "73113     0    0    0  \n",
       "73116     0    0    0  \n",
       "73119     0    0    0  \n",
       "\n",
       "[21290 rows x 57 columns]"
      ]
     },
     "execution_count": 55,
     "metadata": {},
     "output_type": "execute_result"
    }
   ],
   "source": [
    "df"
   ]
  },
  {
   "cell_type": "code",
   "execution_count": 56,
   "id": "b618252b",
   "metadata": {},
   "outputs": [],
   "source": [
    "# import cleaned data into new file \"CleanedData\"\n",
    "df1 = df\n",
    "df1.to_csv('CleanedData.csv')"
   ]
  },
  {
   "cell_type": "code",
   "execution_count": null,
   "id": "1301520e",
   "metadata": {},
   "outputs": [],
   "source": []
  }
 ],
 "metadata": {
  "kernelspec": {
   "display_name": "Python 3 (ipykernel)",
   "language": "python",
   "name": "python3"
  },
  "language_info": {
   "codemirror_mode": {
    "name": "ipython",
    "version": 3
   },
   "file_extension": ".py",
   "mimetype": "text/x-python",
   "name": "python",
   "nbconvert_exporter": "python",
   "pygments_lexer": "ipython3",
   "version": "3.11.5"
  }
 },
 "nbformat": 4,
 "nbformat_minor": 5
}
