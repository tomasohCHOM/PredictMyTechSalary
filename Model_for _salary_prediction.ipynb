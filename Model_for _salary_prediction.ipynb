{
 "cells": [
  {
   "cell_type": "markdown",
   "id": "c17667ad",
   "metadata": {},
   "source": [
    "# Data Categories"
   ]
  },
  {
   "cell_type": "markdown",
   "id": "93d74feb",
   "metadata": {},
   "source": [
    "The data is seperated in these categories; \n",
    " \n",
    "`ResponseId | MainBranch | Employment | RemoteWork| EdLevel| YearsCode | OrgSize | Country | Age | Gender | Trans | Sexuality | Ethnicity | Accessibility | MentalHealth | WorkExp | ConvertedCompYearly | C# | C | HTML/CSS,\n",
    "  | Python | Dart | Bash/Shell | JavaScript | Java | Haskell | Assembly | Go | Groovy | Crystal | PHP | Delphi | C++ | Clojure | Kotlin | APL | Rust | TypeScript | COBOL | PowerShell | Scala | Elixir | F# | LISP | Ruby | Julia | MATLAB | Objective-C | Erlang | Swift | Fortran | OCaml | R | SQL | Perl | Lua | VBA`\n",
    "  \n",
    "Our Inputs for the model are;\n",
    "\n",
    "`MainBranch | Employment | RemoteWork| EdLevel| YearsCode | OrgSize | Country | Age | Gender | Trans | Sexuality | Ethnicity | Accessibility | MentalHealth | WorkExp | C# | C | HTML/CSS,\n",
    "  | Python | Dart | Bash/Shell | JavaScript | Java | Haskell | Assembly | Go | Groovy | Crystal | PHP | Delphi | C++ | Clojure | Kotlin | APL | Rust | TypeScript | COBOL | PowerShell | Scala | Elixir | F# | LISP | Ruby | Julia | MATLAB | Objective-C | Erlang | Swift | Fortran | OCaml | R | SQL | Perl | Lua | VBA`\n",
    "  \n",
    "Our Outputs for the model will be;\n",
    "\n",
    "`ConvertedCompYearly`"
   ]
  },
  {
   "cell_type": "markdown",
   "id": "ce0d4ddb",
   "metadata": {},
   "source": [
    "# Importing data and libraries"
   ]
  },
  {
   "cell_type": "code",
   "execution_count": null,
   "id": "c4e52c5e",
   "metadata": {},
   "outputs": [],
   "source": [
    "import numpy as np\n",
    "import pandas as pd\n",
    "import matplotlib.pyplot as plt\n",
    "import seaborn as sns\n",
    "import pickle as pkl\n",
    "\n",
    "sns.set()\n",
    "\n",
    "from sklearn.model_selection import train_test_split, RandomizedSearchCV\n",
    "from sklearn.linear_model import LinearRegression, Ridge, Lasso, ElasticNet\n",
    "from sklearn.preprocessing import StandardScaler, PolynomialFeatures\n",
    "from sklearn.pipeline import make_pipeline\n",
    "from sklearn.model_selection import cross_val_score, train_test_split, KFold, GridSearchCV\n",
    "from sklearn.ensemble import RandomForestRegressor, ExtraTreesRegressor\n",
    "from sklearn import metrics\n",
    "from sklearn.metrics import r2_score, mean_squared_error, mean_absolute_error\n",
    "from sklearn.metrics import confusion_matrix, classification_report"
   ]
  },
  {
   "cell_type": "code",
   "execution_count": null,
   "id": "7d2fcbec",
   "metadata": {},
   "outputs": [],
   "source": [
    "df = pd.read_csv(\"CleanedData.csv\")\n",
    "df"
   ]
  },
  {
   "cell_type": "markdown",
   "id": "86b159ab",
   "metadata": {},
   "source": [
    "# Define Input and Output"
   ]
  },
  {
   "cell_type": "code",
   "execution_count": null,
   "id": "f9a3b87e",
   "metadata": {},
   "outputs": [],
   "source": [
    "# Input data \n",
    "X = df[['MainBranch','Employment','RemoteWork','EdLevel','YearsCode','OrgSize','Country','Age','Gender','Trans','Sexuality','Ethnicity','Accessibility','MentalHealth','WorkExp','C#','C','HTML/CSS','Python','Dart','Bash/Shell','JavaScript','Java','Haskell','Assembly','Go','Groovy','Crystal','PHP','Delphi','C++','Clojure','Kotlin','APL','Rust','TypeScript','COBOL','PowerShell','Scala','Elixir','F#','LISP','Ruby','Julia','MATLAB','Objective-C','Erlang','Swift','Fortran','OCaml','R','SQL','Perl','Lua','VBA']]\n",
    "\n",
    "# Output data \n",
    "y = df[\"ConvertedCompYearly\"]\n",
    "\n",
    "X = np.asarray(X).astype('float32')\n",
    "y = np.asarray(y).astype('float32')\n",
    "\n",
    "\n",
    "#rebalance using SMOTE\n",
    "#from imblearn.over_sampling import SMOTE\n",
    "\n",
    "#smote = SMOTE(random_state=42)\n",
    "#X, y = smote.fit_resample(X, y)\n",
    "\n",
    "# Split data into training and test sets, 70% and 30%.\n",
    "X_train, X_test, y_train, y_test = train_test_split(X, y, test_size=0.3, random_state=0)\n"
   ]
  },
  {
   "cell_type": "code",
   "execution_count": null,
   "id": "fa905f93",
   "metadata": {},
   "outputs": [],
   "source": [
    "df"
   ]
  },
  {
   "cell_type": "code",
   "execution_count": null,
   "id": "61563d56",
   "metadata": {},
   "outputs": [],
   "source": [
    "# Train an SVM model\n",
    "from sklearn.svm import SVC\n",
    "svm_model = SVC(kernel='linear', C=1.0)\n",
    "svm_model.fit(X_train, y_train)\n",
    "\n",
    "# SVM\n",
    "y_pred_svm = svm_model.predict(X_test)\n",
    "cm_svm = confusion_matrix(y_test, y_pred_svm)\n",
    "TN, FP, FN, TP = cm_svm.ravel()\n",
    "accuracy = (TP + TN) / (TP + TN + FP + FN)\n",
    "precision = TP / (TP + FP)\n",
    "recall = TP / (TP + FN)\n",
    "f1_score = 2 * (precision * recall) / (precision + recall)\n",
    "print(\"SVM\")\n",
    "print(\"Accuracy:\", accuracy)\n",
    "print(\"Precision:\", precision)\n",
    "print(\"Recall:\", recall)\n",
    "print(\"F1 Score:\", f1_score)\n",
    "# ratio of false negatives to true positives (want to make this go down)\n",
    "print(\"False Negative Ratio:\", FN / TP)\n",
    "# ratio of True Positives to False Positives\n",
    "print(\"True Positive Ratio:\", TP / FP)\n",
    "print(\"=\"*20)\n"
   ]
  },
  {
   "cell_type": "code",
   "execution_count": null,
   "id": "e4089314",
   "metadata": {},
   "outputs": [],
   "source": []
  }
 ],
 "metadata": {
  "kernelspec": {
   "display_name": "Python 3 (ipykernel)",
   "language": "python",
   "name": "python3"
  },
  "language_info": {
   "codemirror_mode": {
    "name": "ipython",
    "version": 3
   },
   "file_extension": ".py",
   "mimetype": "text/x-python",
   "name": "python",
   "nbconvert_exporter": "python",
   "pygments_lexer": "ipython3",
   "version": "3.11.5"
  }
 },
 "nbformat": 4,
 "nbformat_minor": 5
}
